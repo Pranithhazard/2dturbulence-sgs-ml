{
 "cells": [
  {
   "cell_type": "code",
   "execution_count": 1,
   "id": "2a2bc712",
   "metadata": {},
   "outputs": [],
   "source": [
    "import sys\n",
    "from pathlib import Path\n",
    "\n",
    "project_root = Path().resolve().parent   # if your notebook lives in turbulence‐sgs-ml/notebooks/\n",
    "if str(project_root) not in sys.path:\n",
    "    sys.path.insert(0, str(project_root))"
   ]
  },
  {
   "cell_type": "code",
   "execution_count": 2,
   "id": "b038c8d5",
   "metadata": {},
   "outputs": [],
   "source": [
    "import datetime\n",
    "import tensorflow as tf\n",
    "\n",
    "from tf_models.config      import BATCH_SIZE, EPOCHS, LOG_DIR\n",
    "from tf_models.data_loader import get_train_fw16_sig_model2A\n",
    "from tf_models.model       import create_sig_model"
   ]
  },
  {
   "cell_type": "code",
   "execution_count": 3,
   "id": "f55f08ea",
   "metadata": {},
   "outputs": [
    {
     "name": "stdout",
     "output_type": "stream",
     "text": [
      "X shape: (1475520, 6), y shape: (1475520, 2)\n"
     ]
    }
   ],
   "source": [
    "X_train, y_train = get_train_fw16_sig_model2A()\n",
    "print(f\"X shape: {X_train.shape}, y shape: {y_train.shape}\")\n"
   ]
  },
  {
   "cell_type": "code",
   "execution_count": 4,
   "id": "661e6538",
   "metadata": {},
   "outputs": [
    {
     "name": "stdout",
     "output_type": "stream",
     "text": [
      "Model: \"sequential\"\n",
      "_________________________________________________________________\n",
      " Layer (type)                Output Shape              Param #   \n",
      "=================================================================\n",
      " dense (Dense)               (None, 50)                350       \n",
      "                                                                 \n",
      " dense_1 (Dense)             (None, 50)                2550      \n",
      "                                                                 \n",
      " dense_2 (Dense)             (None, 2)                 102       \n",
      "                                                                 \n",
      "=================================================================\n",
      "Total params: 3,002\n",
      "Trainable params: 3,002\n",
      "Non-trainable params: 0\n",
      "_________________________________________________________________\n"
     ]
    }
   ],
   "source": [
    "# after loading X_train, y_train…\n",
    "n_features = X_train.shape[1]\n",
    "\n",
    "# now pass both arguments\n",
    "model = create_sig_model(neurons=50, input_dim=n_features)\n",
    "model.summary()\n"
   ]
  },
  {
   "cell_type": "code",
   "execution_count": 5,
   "id": "f424a5af",
   "metadata": {},
   "outputs": [],
   "source": [
    "%load_ext tensorboard"
   ]
  },
  {
   "cell_type": "code",
   "execution_count": 6,
   "id": "09c562c1",
   "metadata": {},
   "outputs": [],
   "source": [
    "tb_logdir = LOG_DIR / \"notebook_fw16_sig\" / datetime.datetime.now().strftime(\"%Y%m%d-%H%M%S\")\n",
    "tensorboard_cb = tf.keras.callbacks.TensorBoard(\n",
    "    log_dir=str(tb_logdir),\n",
    "    histogram_freq=1  # log weight histograms every epoch\n",
    ")"
   ]
  },
  {
   "cell_type": "code",
   "execution_count": 7,
   "id": "1ca3ba8a",
   "metadata": {},
   "outputs": [
    {
     "name": "stdout",
     "output_type": "stream",
     "text": [
      "Epoch 1/100\n"
     ]
    },
    {
     "name": "stderr",
     "output_type": "stream",
     "text": [
      "2025-07-30 14:40:48.884077: W tensorflow/core/platform/profile_utils/cpu_utils.cc:128] Failed to get CPU frequency: 0 Hz\n"
     ]
    },
    {
     "name": "stdout",
     "output_type": "stream",
     "text": [
      "4611/4611 [==============================] - 3s 648us/step - loss: 0.3363 - mse: 0.3363 - val_loss: 0.0178 - val_mse: 0.0178\n",
      "Epoch 2/100\n",
      "4611/4611 [==============================] - 3s 609us/step - loss: 0.0076 - mse: 0.0076 - val_loss: 0.0614 - val_mse: 0.0614\n",
      "Epoch 3/100\n",
      "4611/4611 [==============================] - 3s 606us/step - loss: 0.0050 - mse: 0.0050 - val_loss: 0.0016 - val_mse: 0.0016\n",
      "Epoch 4/100\n",
      "4611/4611 [==============================] - 3s 599us/step - loss: 0.0026 - mse: 0.0026 - val_loss: 0.0022 - val_mse: 0.0022\n",
      "Epoch 5/100\n",
      "4611/4611 [==============================] - 3s 622us/step - loss: 0.0019 - mse: 0.0019 - val_loss: 0.0025 - val_mse: 0.0025\n",
      "Epoch 6/100\n",
      "4611/4611 [==============================] - 3s 607us/step - loss: 0.0013 - mse: 0.0013 - val_loss: 6.2794e-04 - val_mse: 6.2794e-04\n",
      "Epoch 7/100\n",
      "4611/4611 [==============================] - 3s 631us/step - loss: 7.1690e-04 - mse: 7.1690e-04 - val_loss: 4.7008e-04 - val_mse: 4.7008e-04\n",
      "Epoch 8/100\n",
      "4611/4611 [==============================] - 3s 606us/step - loss: 4.7589e-04 - mse: 4.7589e-04 - val_loss: 3.2612e-04 - val_mse: 3.2612e-04\n",
      "Epoch 9/100\n",
      "4611/4611 [==============================] - 3s 607us/step - loss: 3.2000e-04 - mse: 3.2000e-04 - val_loss: 2.3807e-04 - val_mse: 2.3807e-04\n",
      "Epoch 10/100\n",
      "4611/4611 [==============================] - 3s 587us/step - loss: 2.2171e-04 - mse: 2.2171e-04 - val_loss: 2.1241e-04 - val_mse: 2.1241e-04\n",
      "Epoch 11/100\n",
      "4611/4611 [==============================] - 3s 597us/step - loss: 1.6591e-04 - mse: 1.6591e-04 - val_loss: 1.2407e-04 - val_mse: 1.2407e-04\n",
      "Epoch 12/100\n",
      "4611/4611 [==============================] - 3s 586us/step - loss: 1.1208e-04 - mse: 1.1208e-04 - val_loss: 1.7702e-04 - val_mse: 1.7702e-04\n",
      "Epoch 13/100\n",
      "4611/4611 [==============================] - 3s 598us/step - loss: 8.5832e-05 - mse: 8.5832e-05 - val_loss: 1.4135e-04 - val_mse: 1.4135e-04\n",
      "Epoch 14/100\n",
      "4611/4611 [==============================] - 3s 590us/step - loss: 4.4937e-05 - mse: 4.4937e-05 - val_loss: 6.8436e-05 - val_mse: 6.8436e-05\n",
      "Epoch 15/100\n",
      "4611/4611 [==============================] - 3s 586us/step - loss: 3.6808e-05 - mse: 3.6808e-05 - val_loss: 5.3556e-05 - val_mse: 5.3556e-05\n",
      "Epoch 16/100\n",
      "4611/4611 [==============================] - 3s 592us/step - loss: 2.5111e-05 - mse: 2.5111e-05 - val_loss: 4.9866e-05 - val_mse: 4.9866e-05\n",
      "Epoch 17/100\n",
      "4611/4611 [==============================] - 3s 594us/step - loss: 1.8890e-05 - mse: 1.8890e-05 - val_loss: 4.1960e-05 - val_mse: 4.1960e-05\n",
      "Epoch 18/100\n",
      "4611/4611 [==============================] - 3s 595us/step - loss: 1.4656e-05 - mse: 1.4656e-05 - val_loss: 3.5966e-05 - val_mse: 3.5966e-05\n",
      "Epoch 19/100\n",
      "4611/4611 [==============================] - 3s 589us/step - loss: 1.2168e-05 - mse: 1.2168e-05 - val_loss: 3.2563e-05 - val_mse: 3.2563e-05\n",
      "Epoch 20/100\n",
      "4611/4611 [==============================] - 3s 596us/step - loss: 1.0298e-05 - mse: 1.0298e-05 - val_loss: 2.6403e-05 - val_mse: 2.6403e-05\n",
      "Epoch 21/100\n",
      "4611/4611 [==============================] - 3s 587us/step - loss: 9.0268e-06 - mse: 9.0268e-06 - val_loss: 3.1857e-05 - val_mse: 3.1857e-05\n",
      "Epoch 22/100\n",
      "4611/4611 [==============================] - 3s 589us/step - loss: 8.2206e-06 - mse: 8.2206e-06 - val_loss: 3.3750e-05 - val_mse: 3.3750e-05\n",
      "Epoch 23/100\n",
      "4611/4611 [==============================] - 3s 596us/step - loss: 7.6737e-06 - mse: 7.6737e-06 - val_loss: 2.3791e-05 - val_mse: 2.3791e-05\n",
      "Epoch 24/100\n",
      "4611/4611 [==============================] - 3s 598us/step - loss: 7.1769e-06 - mse: 7.1769e-06 - val_loss: 2.5194e-05 - val_mse: 2.5194e-05\n",
      "Epoch 25/100\n",
      "4611/4611 [==============================] - 3s 589us/step - loss: 6.8351e-06 - mse: 6.8351e-06 - val_loss: 2.0522e-05 - val_mse: 2.0522e-05\n",
      "Epoch 26/100\n",
      "4611/4611 [==============================] - 3s 587us/step - loss: 6.4406e-06 - mse: 6.4406e-06 - val_loss: 2.6552e-05 - val_mse: 2.6552e-05\n",
      "Epoch 27/100\n",
      "4611/4611 [==============================] - 3s 587us/step - loss: 6.2091e-06 - mse: 6.2091e-06 - val_loss: 1.8285e-05 - val_mse: 1.8285e-05\n",
      "Epoch 28/100\n",
      "4611/4611 [==============================] - 3s 587us/step - loss: 5.8530e-06 - mse: 5.8530e-06 - val_loss: 2.7110e-05 - val_mse: 2.7110e-05\n",
      "Epoch 29/100\n",
      "4611/4611 [==============================] - 3s 589us/step - loss: 5.6636e-06 - mse: 5.6636e-06 - val_loss: 1.7875e-05 - val_mse: 1.7875e-05\n",
      "Epoch 30/100\n",
      "4611/4611 [==============================] - 3s 585us/step - loss: 5.3866e-06 - mse: 5.3866e-06 - val_loss: 2.2821e-05 - val_mse: 2.2821e-05\n",
      "Epoch 31/100\n",
      "4611/4611 [==============================] - 3s 591us/step - loss: 5.3323e-06 - mse: 5.3323e-06 - val_loss: 1.9937e-05 - val_mse: 1.9937e-05\n",
      "Epoch 32/100\n",
      "4611/4611 [==============================] - 3s 588us/step - loss: 5.0571e-06 - mse: 5.0571e-06 - val_loss: 1.7644e-05 - val_mse: 1.7644e-05\n",
      "Epoch 33/100\n",
      "4611/4611 [==============================] - 3s 583us/step - loss: 5.0443e-06 - mse: 5.0443e-06 - val_loss: 1.9150e-05 - val_mse: 1.9150e-05\n",
      "Epoch 34/100\n",
      "4611/4611 [==============================] - 3s 593us/step - loss: 4.8467e-06 - mse: 4.8467e-06 - val_loss: 1.7636e-05 - val_mse: 1.7636e-05\n",
      "Epoch 35/100\n",
      "4611/4611 [==============================] - 3s 581us/step - loss: 4.9099e-06 - mse: 4.9099e-06 - val_loss: 1.7196e-05 - val_mse: 1.7196e-05\n",
      "Epoch 36/100\n",
      "4611/4611 [==============================] - 3s 585us/step - loss: 4.7322e-06 - mse: 4.7322e-06 - val_loss: 1.5867e-05 - val_mse: 1.5867e-05\n",
      "Epoch 37/100\n",
      "4611/4611 [==============================] - 3s 585us/step - loss: 4.7183e-06 - mse: 4.7183e-06 - val_loss: 1.7683e-05 - val_mse: 1.7683e-05\n",
      "Epoch 38/100\n",
      "4611/4611 [==============================] - 3s 573us/step - loss: 4.6309e-06 - mse: 4.6309e-06 - val_loss: 1.6328e-05 - val_mse: 1.6328e-05\n",
      "Epoch 39/100\n",
      "4611/4611 [==============================] - 3s 564us/step - loss: 4.5828e-06 - mse: 4.5828e-06 - val_loss: 1.5028e-05 - val_mse: 1.5028e-05\n",
      "Epoch 40/100\n",
      "4611/4611 [==============================] - 3s 566us/step - loss: 4.5659e-06 - mse: 4.5659e-06 - val_loss: 2.2234e-05 - val_mse: 2.2234e-05\n",
      "Epoch 41/100\n",
      "4611/4611 [==============================] - 3s 565us/step - loss: 4.4935e-06 - mse: 4.4935e-06 - val_loss: 1.4475e-05 - val_mse: 1.4475e-05\n",
      "Epoch 42/100\n",
      "4611/4611 [==============================] - 3s 607us/step - loss: 4.4554e-06 - mse: 4.4554e-06 - val_loss: 1.6124e-05 - val_mse: 1.6124e-05\n",
      "Epoch 43/100\n",
      "4611/4611 [==============================] - 3s 587us/step - loss: 4.4729e-06 - mse: 4.4729e-06 - val_loss: 1.7584e-05 - val_mse: 1.7584e-05\n",
      "Epoch 44/100\n",
      "4611/4611 [==============================] - 3s 570us/step - loss: 4.3929e-06 - mse: 4.3929e-06 - val_loss: 1.3320e-05 - val_mse: 1.3320e-05\n",
      "Epoch 45/100\n",
      "4611/4611 [==============================] - 3s 576us/step - loss: 4.2336e-06 - mse: 4.2336e-06 - val_loss: 2.1325e-05 - val_mse: 2.1325e-05\n",
      "Epoch 46/100\n",
      "4611/4611 [==============================] - 3s 580us/step - loss: 4.2383e-06 - mse: 4.2383e-06 - val_loss: 1.5101e-05 - val_mse: 1.5101e-05\n",
      "Epoch 47/100\n",
      "4611/4611 [==============================] - 3s 577us/step - loss: 4.2771e-06 - mse: 4.2771e-06 - val_loss: 1.2967e-05 - val_mse: 1.2967e-05\n",
      "Epoch 48/100\n",
      "4611/4611 [==============================] - 3s 582us/step - loss: 4.2871e-06 - mse: 4.2871e-06 - val_loss: 2.2898e-05 - val_mse: 2.2898e-05\n",
      "Epoch 49/100\n",
      "4611/4611 [==============================] - 3s 570us/step - loss: 4.1978e-06 - mse: 4.1978e-06 - val_loss: 1.6246e-05 - val_mse: 1.6246e-05\n",
      "Epoch 50/100\n",
      "4611/4611 [==============================] - 3s 569us/step - loss: 4.1377e-06 - mse: 4.1377e-06 - val_loss: 1.3842e-05 - val_mse: 1.3842e-05\n",
      "Epoch 51/100\n",
      "4611/4611 [==============================] - 3s 570us/step - loss: 4.1430e-06 - mse: 4.1430e-06 - val_loss: 1.5046e-05 - val_mse: 1.5046e-05\n",
      "Epoch 52/100\n",
      "4611/4611 [==============================] - 3s 570us/step - loss: 4.1131e-06 - mse: 4.1131e-06 - val_loss: 1.6341e-05 - val_mse: 1.6341e-05\n",
      "Epoch 53/100\n",
      "4611/4611 [==============================] - 3s 559us/step - loss: 4.0296e-06 - mse: 4.0296e-06 - val_loss: 1.2847e-05 - val_mse: 1.2847e-05\n",
      "Epoch 54/100\n",
      "4611/4611 [==============================] - 3s 569us/step - loss: 4.0310e-06 - mse: 4.0310e-06 - val_loss: 1.4137e-05 - val_mse: 1.4137e-05\n"
     ]
    },
    {
     "name": "stdout",
     "output_type": "stream",
     "text": [
      "Epoch 55/100\n",
      "4611/4611 [==============================] - 3s 568us/step - loss: 4.0592e-06 - mse: 4.0592e-06 - val_loss: 1.2610e-05 - val_mse: 1.2610e-05\n",
      "Epoch 56/100\n",
      "4611/4611 [==============================] - 3s 567us/step - loss: 3.9148e-06 - mse: 3.9148e-06 - val_loss: 1.4164e-05 - val_mse: 1.4164e-05\n",
      "Epoch 57/100\n",
      "4611/4611 [==============================] - 3s 575us/step - loss: 4.0305e-06 - mse: 4.0305e-06 - val_loss: 1.1866e-05 - val_mse: 1.1866e-05\n",
      "Epoch 58/100\n",
      "4611/4611 [==============================] - 3s 568us/step - loss: 4.0170e-06 - mse: 4.0170e-06 - val_loss: 1.5816e-05 - val_mse: 1.5816e-05\n",
      "Epoch 59/100\n",
      "4611/4611 [==============================] - 3s 566us/step - loss: 3.9419e-06 - mse: 3.9419e-06 - val_loss: 1.3449e-05 - val_mse: 1.3449e-05\n",
      "Epoch 60/100\n",
      "4611/4611 [==============================] - 3s 566us/step - loss: 3.9155e-06 - mse: 3.9155e-06 - val_loss: 1.3483e-05 - val_mse: 1.3483e-05\n",
      "Epoch 61/100\n",
      "4611/4611 [==============================] - 3s 567us/step - loss: 3.7795e-06 - mse: 3.7795e-06 - val_loss: 1.4637e-05 - val_mse: 1.4637e-05\n",
      "Epoch 62/100\n",
      "4611/4611 [==============================] - 3s 568us/step - loss: 3.8686e-06 - mse: 3.8686e-06 - val_loss: 1.4048e-05 - val_mse: 1.4048e-05\n",
      "Epoch 63/100\n",
      "4611/4611 [==============================] - 3s 566us/step - loss: 3.7758e-06 - mse: 3.7758e-06 - val_loss: 1.4598e-05 - val_mse: 1.4598e-05\n",
      "Epoch 64/100\n",
      "4611/4611 [==============================] - 3s 567us/step - loss: 3.8291e-06 - mse: 3.8291e-06 - val_loss: 1.7179e-05 - val_mse: 1.7179e-05\n",
      "Epoch 65/100\n",
      "4611/4611 [==============================] - 3s 567us/step - loss: 3.7606e-06 - mse: 3.7606e-06 - val_loss: 1.2653e-05 - val_mse: 1.2653e-05\n",
      "Epoch 66/100\n",
      "4611/4611 [==============================] - 3s 563us/step - loss: 3.7899e-06 - mse: 3.7899e-06 - val_loss: 1.3618e-05 - val_mse: 1.3618e-05\n",
      "Epoch 67/100\n",
      "4611/4611 [==============================] - 3s 568us/step - loss: 3.7269e-06 - mse: 3.7269e-06 - val_loss: 1.3384e-05 - val_mse: 1.3384e-05\n",
      "Epoch 68/100\n",
      "4611/4611 [==============================] - 3s 568us/step - loss: 3.7300e-06 - mse: 3.7300e-06 - val_loss: 1.3818e-05 - val_mse: 1.3818e-05\n",
      "Epoch 69/100\n",
      "4611/4611 [==============================] - 3s 566us/step - loss: 3.7320e-06 - mse: 3.7320e-06 - val_loss: 1.3868e-05 - val_mse: 1.3868e-05\n",
      "Epoch 70/100\n",
      "4611/4611 [==============================] - 3s 568us/step - loss: 3.6321e-06 - mse: 3.6321e-06 - val_loss: 1.2254e-05 - val_mse: 1.2254e-05\n",
      "Epoch 71/100\n",
      "4611/4611 [==============================] - 3s 568us/step - loss: 3.6944e-06 - mse: 3.6944e-06 - val_loss: 1.3512e-05 - val_mse: 1.3512e-05\n",
      "Epoch 72/100\n",
      "4611/4611 [==============================] - 3s 564us/step - loss: 3.6606e-06 - mse: 3.6606e-06 - val_loss: 1.2870e-05 - val_mse: 1.2870e-05\n",
      "Epoch 73/100\n",
      "4611/4611 [==============================] - 3s 567us/step - loss: 3.6178e-06 - mse: 3.6178e-06 - val_loss: 1.4888e-05 - val_mse: 1.4888e-05\n",
      "Epoch 74/100\n",
      "4611/4611 [==============================] - 3s 567us/step - loss: 3.6960e-06 - mse: 3.6960e-06 - val_loss: 1.3834e-05 - val_mse: 1.3834e-05\n",
      "Epoch 75/100\n",
      "4611/4611 [==============================] - 3s 568us/step - loss: 3.6625e-06 - mse: 3.6625e-06 - val_loss: 2.1268e-05 - val_mse: 2.1268e-05\n",
      "Epoch 76/100\n",
      "4611/4611 [==============================] - 3s 571us/step - loss: 3.6567e-06 - mse: 3.6567e-06 - val_loss: 1.4157e-05 - val_mse: 1.4157e-05\n",
      "Epoch 77/100\n",
      "4611/4611 [==============================] - 3s 603us/step - loss: 3.5384e-06 - mse: 3.5384e-06 - val_loss: 1.3389e-05 - val_mse: 1.3389e-05\n",
      "Epoch 78/100\n",
      "4611/4611 [==============================] - 3s 609us/step - loss: 3.6090e-06 - mse: 3.6090e-06 - val_loss: 1.5613e-05 - val_mse: 1.5613e-05\n",
      "Epoch 79/100\n",
      "4611/4611 [==============================] - 3s 613us/step - loss: 3.5281e-06 - mse: 3.5281e-06 - val_loss: 1.1767e-05 - val_mse: 1.1767e-05\n",
      "Epoch 80/100\n",
      "4611/4611 [==============================] - 3s 618us/step - loss: 3.5854e-06 - mse: 3.5854e-06 - val_loss: 1.0825e-05 - val_mse: 1.0825e-05\n",
      "Epoch 81/100\n",
      "4611/4611 [==============================] - 3s 616us/step - loss: 3.5579e-06 - mse: 3.5579e-06 - val_loss: 1.1904e-05 - val_mse: 1.1904e-05\n",
      "Epoch 82/100\n",
      "4611/4611 [==============================] - 3s 613us/step - loss: 3.5611e-06 - mse: 3.5611e-06 - val_loss: 1.3572e-05 - val_mse: 1.3572e-05\n",
      "Epoch 83/100\n",
      "4611/4611 [==============================] - 3s 613us/step - loss: 3.5420e-06 - mse: 3.5420e-06 - val_loss: 1.5818e-05 - val_mse: 1.5818e-05\n",
      "Epoch 84/100\n",
      "4611/4611 [==============================] - 3s 614us/step - loss: 3.5624e-06 - mse: 3.5624e-06 - val_loss: 1.3116e-05 - val_mse: 1.3116e-05\n",
      "Epoch 85/100\n",
      "4611/4611 [==============================] - 3s 615us/step - loss: 3.4970e-06 - mse: 3.4970e-06 - val_loss: 1.2545e-05 - val_mse: 1.2545e-05\n",
      "Epoch 86/100\n",
      "4611/4611 [==============================] - 3s 616us/step - loss: 3.5200e-06 - mse: 3.5200e-06 - val_loss: 1.2122e-05 - val_mse: 1.2122e-05\n",
      "Epoch 87/100\n",
      "4611/4611 [==============================] - 3s 613us/step - loss: 3.5457e-06 - mse: 3.5457e-06 - val_loss: 1.1244e-05 - val_mse: 1.1244e-05\n",
      "Epoch 88/100\n",
      "4611/4611 [==============================] - 3s 618us/step - loss: 3.5201e-06 - mse: 3.5201e-06 - val_loss: 1.2257e-05 - val_mse: 1.2257e-05\n",
      "Epoch 89/100\n",
      "4611/4611 [==============================] - 3s 619us/step - loss: 3.5323e-06 - mse: 3.5323e-06 - val_loss: 1.4803e-05 - val_mse: 1.4803e-05\n",
      "Epoch 90/100\n",
      "4611/4611 [==============================] - 3s 626us/step - loss: 3.4712e-06 - mse: 3.4712e-06 - val_loss: 1.2979e-05 - val_mse: 1.2979e-05\n",
      "Epoch 91/100\n",
      "4611/4611 [==============================] - 3s 618us/step - loss: 3.5515e-06 - mse: 3.5515e-06 - val_loss: 1.1607e-05 - val_mse: 1.1607e-05\n",
      "Epoch 92/100\n",
      "4611/4611 [==============================] - 3s 619us/step - loss: 3.5151e-06 - mse: 3.5151e-06 - val_loss: 1.4627e-05 - val_mse: 1.4627e-05\n",
      "Epoch 93/100\n",
      "4611/4611 [==============================] - 3s 636us/step - loss: 3.5192e-06 - mse: 3.5192e-06 - val_loss: 1.0803e-05 - val_mse: 1.0803e-05\n",
      "Epoch 94/100\n",
      "4611/4611 [==============================] - 3s 614us/step - loss: 3.4889e-06 - mse: 3.4889e-06 - val_loss: 1.5674e-05 - val_mse: 1.5674e-05\n",
      "Epoch 95/100\n",
      "4611/4611 [==============================] - 3s 618us/step - loss: 3.5058e-06 - mse: 3.5058e-06 - val_loss: 9.6798e-06 - val_mse: 9.6798e-06\n",
      "Epoch 96/100\n",
      "4611/4611 [==============================] - 3s 618us/step - loss: 3.5370e-06 - mse: 3.5370e-06 - val_loss: 1.2511e-05 - val_mse: 1.2511e-05\n",
      "Epoch 97/100\n",
      "4611/4611 [==============================] - 3s 618us/step - loss: 3.4078e-06 - mse: 3.4078e-06 - val_loss: 1.3280e-05 - val_mse: 1.3280e-05\n",
      "Epoch 98/100\n",
      "4611/4611 [==============================] - 3s 615us/step - loss: 3.4446e-06 - mse: 3.4446e-06 - val_loss: 1.3711e-05 - val_mse: 1.3711e-05\n",
      "Epoch 99/100\n",
      "4611/4611 [==============================] - 3s 614us/step - loss: 3.4887e-06 - mse: 3.4887e-06 - val_loss: 1.4719e-05 - val_mse: 1.4719e-05\n",
      "Epoch 100/100\n",
      "4611/4611 [==============================] - 3s 621us/step - loss: 3.5156e-06 - mse: 3.5156e-06 - val_loss: 1.7069e-05 - val_mse: 1.7069e-05\n"
     ]
    }
   ],
   "source": [
    "history = model.fit(\n",
    "    X_train, y_train,\n",
    "    validation_split=0.2,\n",
    "    batch_size=BATCH_SIZE,\n",
    "    epochs=EPOCHS,\n",
    "    callbacks=[tensorboard_cb]\n",
    ")\n"
   ]
  },
  {
   "cell_type": "code",
   "execution_count": 8,
   "id": "3c115696",
   "metadata": {},
   "outputs": [
    {
     "data": {
      "text/html": [
       "\n",
       "      <iframe id=\"tensorboard-frame-ccd5805a9206a90\" width=\"100%\" height=\"800\" frameborder=\"0\">\n",
       "      </iframe>\n",
       "      <script>\n",
       "        (function() {\n",
       "          const frame = document.getElementById(\"tensorboard-frame-ccd5805a9206a90\");\n",
       "          const url = new URL(\"/\", window.location);\n",
       "          const port = 6006;\n",
       "          if (port) {\n",
       "            url.port = port;\n",
       "          }\n",
       "          frame.src = url;\n",
       "        })();\n",
       "      </script>\n",
       "    "
      ],
      "text/plain": [
       "<IPython.core.display.HTML object>"
      ]
     },
     "metadata": {},
     "output_type": "display_data"
    }
   ],
   "source": [
    "%tensorboard --logdir {LOG_DIR}/notebook_fw16_sig"
   ]
  },
  {
   "cell_type": "code",
   "execution_count": null,
   "id": "d359ffa9",
   "metadata": {},
   "outputs": [],
   "source": []
  }
 ],
 "metadata": {
  "kernelspec": {
   "display_name": "Python 3 (ipykernel)",
   "language": "python",
   "name": "python3"
  },
  "language_info": {
   "codemirror_mode": {
    "name": "ipython",
    "version": 3
   },
   "file_extension": ".py",
   "mimetype": "text/x-python",
   "name": "python",
   "nbconvert_exporter": "python",
   "pygments_lexer": "ipython3",
   "version": "3.9.13"
  }
 },
 "nbformat": 4,
 "nbformat_minor": 5
}

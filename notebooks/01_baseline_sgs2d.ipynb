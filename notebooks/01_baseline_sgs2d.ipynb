{
 "cells": [
  {
   "cell_type": "code",
   "execution_count": null,
   "metadata": {},
   "outputs": [],
   "source": [
    "import numpy as np\n",
    "import random\n",
    "import pandas as pd\n",
    "import scipy as sp\n",
    "from scipy.stats import norm\n",
    "import matplotlib.pyplot as plt\n",
    "import tensorflow as tf\n",
    "\n",
    "from sklearn.model_selection import GridSearchCV\n",
    "from tensorflow.keras.models import Sequential\n",
    "from tensorflow.keras.layers import Dense\n",
    "from tensorflow.keras.layers import Dropout\n",
    "from tensorflow.keras.wrappers.scikit_learn import KerasRegressor\n"
   ]
  },
  {
   "cell_type": "code",
   "execution_count": null,
   "metadata": {},
   "outputs": [],
   "source": [
    "def create_model_1(neurons = 50):\n",
    "    model = Sequential()\n",
    "    model.add(Dense(units=neurons, activation='relu', use_bias = True))\n",
    "    model.add(Dense(units=neurons, activation='relu', use_bias = True))\n",
    "    model.add(Dense(units=1, use_bias = True))\n",
    "    adam = tf.keras.optimizers.Adam(learning_rate = 0.001 , beta_1 =0.9, beta_2 =0.999)\n",
    "    model.compile(optimizer = adam, loss = 'mean_squared_error', metrics=[tf.keras.metrics.MeanSquaredError()])\n",
    "    return model"
   ]
  },
  {
   "cell_type": "code",
   "execution_count": null,
   "metadata": {},
   "outputs": [],
   "source": [
    "def create_model_1a(neurons = 50):\n",
    "    model = Sequential()\n",
    "    model.add(Dense(units=neurons, activation='relu', use_bias = True))\n",
    "    model.add(Dense(units=neurons, activation='relu', use_bias = True))\n",
    "    model.add(Dense(units=2, use_bias = True))\n",
    "    adam = tf.keras.optimizers.Adam(learning_rate = 0.001 , beta_1 =0.9, beta_2 =0.999)\n",
    "    model.compile(optimizer = adam, loss = 'mean_squared_error', metrics=[tf.keras.metrics.MeanSquaredError()])\n",
    "    return model"
   ]
  },
  {
   "cell_type": "code",
   "execution_count": null,
   "metadata": {},
   "outputs": [],
   "source": [
    "def create_model_2lay_sig(neurons = 64):\n",
    "    model = Sequential()\n",
    "    model.add(Dense(units=neurons, activation='relu', use_bias = True))\n",
    "    model.add(Dense(units=neurons, activation='relu', use_bias = True))\n",
    "    model.add(Dense(units=2, use_bias = True))\n",
    "    adam = tf.keras.optimizers.Adam(learning_rate = 0.001 , beta_1 =0.9, beta_2 =0.999)\n",
    "    model.compile(optimizer = adam, loss = 'mean_squared_error', metrics=[tf.keras.metrics.MeanSquaredError()])\n",
    "    return model"
   ]
  },
  {
   "cell_type": "code",
   "execution_count": null,
   "metadata": {},
   "outputs": [],
   "source": [
    "def create_model_4lay_sig(neurons = 64):\n",
    "    model = Sequential()\n",
    "    model.add(Dense(units=neurons, activation='relu', use_bias = True))\n",
    "    model.add(Dense(units=neurons, activation='relu', use_bias = True))\n",
    "    model.add(Dense(units=neurons, activation='relu', use_bias = True))\n",
    "    model.add(Dense(units=neurons, activation='relu', use_bias = True))\n",
    "    model.add(Dense(units=2, use_bias = True))\n",
    "    adam = tf.keras.optimizers.Adam(learning_rate = 0.001 , beta_1 =0.9, beta_2 =0.999)\n",
    "    model.compile(optimizer = adam, loss = 'mean_squared_error', metrics=[tf.keras.metrics.MeanSquaredError()])\n",
    "    return model"
   ]
  },
  {
   "cell_type": "code",
   "execution_count": null,
   "metadata": {},
   "outputs": [],
   "source": [
    "def create_model_2lay_source(neurons = 64):\n",
    "    model = Sequential()\n",
    "    model.add(Dense(units=neurons, activation='relu', use_bias = True))\n",
    "    model.add(Dense(units=neurons, activation='relu', use_bias = True))\n",
    "    model.add(Dense(units=1, use_bias = True))\n",
    "    adam = tf.keras.optimizers.Adam(learning_rate = 0.001 , beta_1 =0.9, beta_2 =0.999)\n",
    "    model.compile(optimizer = adam, loss = 'mean_squared_error', metrics=[tf.keras.metrics.MeanSquaredError()])\n",
    "    return model"
   ]
  },
  {
   "cell_type": "code",
   "execution_count": null,
   "metadata": {},
   "outputs": [],
   "source": [
    "def create_model_4lay_source(neurons = 64):\n",
    "    model = Sequential()\n",
    "    model.add(Dense(units=neurons, activation='relu', use_bias = True))\n",
    "    model.add(Dense(units=neurons, activation='relu', use_bias = True))\n",
    "    model.add(Dense(units=neurons, activation='relu', use_bias = True))\n",
    "    model.add(Dense(units=neurons, activation='relu', use_bias = True))\n",
    "    model.add(Dense(units=1, use_bias = True))\n",
    "    adam = tf.keras.optimizers.Adam(learning_rate = 0.001 , beta_1 =0.9, beta_2 =0.999)\n",
    "    model.compile(optimizer = adam, loss = 'mean_squared_error', metrics=[tf.keras.metrics.MeanSquaredError()])\n",
    "    return model"
   ]
  },
  {
   "cell_type": "code",
   "execution_count": null,
   "metadata": {},
   "outputs": [],
   "source": [
    "train_n4096l_fw16_sig1 = pd.read_csv('upd2_n4096l_fw16_PartialTrainData_sig1.dat', sep=\"\\s+\", header=None)\n",
    "train_n4096l_fw16_sig1 = pd.DataFrame(train_n4096l_fw16_sig1).to_numpy()\n",
    "train_n4096l_fw16_sig2 = pd.read_csv('upd2_n4096l_fw16_PartialTrainData_sig2.dat', sep=\"\\s+\", header=None)\n",
    "train_n4096l_fw16_sig2 = pd.DataFrame(train_n4096l_fw16_sig2).to_numpy()\n",
    "\n",
    "train_n4096l_fw16_sig = np.concatenate((train_n4096l_fw16_sig1,train_n4096l_fw16_sig2),axis=0)\n",
    "\n",
    "train_n4096l_fw32_sig1 = pd.read_csv('upd2_n4096l_fw32_PartialTrainData_sig1.dat', sep=\"\\s+\", header=None)\n",
    "train_n4096l_fw32_sig1 = pd.DataFrame(train_n4096l_fw32_sig1).to_numpy()\n",
    "train_n4096l_fw32_sig2 = pd.read_csv('upd2_n4096l_fw32_PartialTrainData_sig2.dat', sep=\"\\s+\", header=None)\n",
    "train_n4096l_fw32_sig2 = pd.DataFrame(train_n4096l_fw32_sig2).to_numpy()\n",
    "\n",
    "train_n4096l_fw32_sig = np.concatenate((train_n4096l_fw32_sig1,train_n4096l_fw32_sig2),axis=0)\n",
    "\n",
    "\n",
    "train_n4096l_fw16_source = pd.read_csv('upd_n4096l_fw16_PartialTrainData_sourceterm.dat', sep=\"\\s+\", header=None)\n",
    "train_n4096l_fw16_source = pd.DataFrame(train_n4096l_fw16_source).to_numpy()\n",
    "\n",
    "train_n4096l_fw32_source = pd.read_csv('upd_n4096l_fw32_PartialTrainData_sourceterm.dat', sep=\"\\s+\", header=None)\n",
    "train_n4096l_fw32_source = pd.DataFrame(train_n4096l_fw32_source).to_numpy()"
   ]
  },
  {
   "cell_type": "code",
   "execution_count": null,
   "metadata": {},
   "outputs": [],
   "source": [
    "train_n4096l_fw16_sig1.shape"
   ]
  },
  {
   "cell_type": "code",
   "execution_count": null,
   "metadata": {},
   "outputs": [],
   "source": [
    "smag_col_fw16 = np.sqrt(2.0*(train_n4096l_fw16_sig[:,18])**2 + train_n4096l_fw16_sig[:,19]**2 + train_n4096l_fw16_sig[:,20]**2)\n",
    "leith_col_fw16 = np.sqrt(train_n4096l_fw16_sig[:,3]**2 + train_n4096l_fw16_sig[:,4]**2)\n",
    "\n",
    "smag_col_fw32 = np.sqrt(2.0*(train_n4096l_fw32_sig[:,19])**2 + train_n4096l_fw32_sig[:,20]**2 + train_n4096l_fw32_sig[:,21]**2)\n",
    "leith_col_fw32 = np.sqrt(train_n4096l_fw32_sig[:,4]**2 + train_n4096l_fw32_sig[:,5]**2)"
   ]
  },
  {
   "cell_type": "code",
   "execution_count": null,
   "metadata": {},
   "outputs": [],
   "source": [
    "train_n4096l_fw16_sig_model2A_y = train_n4096l_fw16_sig[:,np.r_[0,1]]\n",
    "train_n4096l_fw16_sig_model2A_X = train_n4096l_fw16_sig[:,np.r_[3,4,8,9,10,11]]\n",
    "\n",
    "train_n4096l_fw16_sig_model2B_y = train_n4096l_fw16_sig[:,np.r_[0,1]]\n",
    "#train_n4096l_fw16_sig_model2B_X = np.hstack((train_n4096l_fw16_sig[:,np.r_[3,4,8,9,10,11]], smag_col_fw16.reshape(-1,1), leith_col_fw16.reshape(-1,1)))\n",
    "train_n4096l_fw16_sig_model2B_X = train_n4096l_fw16_sig[:,3:18]\n",
    "\n",
    "train_n4096l_fw32_sig_model2A_y = train_n4096l_fw32_sig[:,np.r_[0,1]]\n",
    "train_n4096l_fw32_sig_model2A_X = train_n4096l_fw32_sig[:,np.r_[4,5,9,10,11,12]]\n",
    "\n",
    "train_n4096l_fw32_sig_model2B_y = train_n4096l_fw32_sig[:,np.r_[0,1]]\n",
    "#train_n4096l_fw32_sig_model2B_X = np.hstack((train_n4096l_fw32_sig[:,np.r_[4,5,9,10,11,12]], smag_col_fw32.reshape(-1,1), leith_col_fw32.reshape(-1,1)))\n",
    "train_n4096l_fw32_sig_model2B_X = train_n4096l_fw32_sig[:,4:19]\n",
    "\n",
    "train_n4096l_fw16_source_model2B_y = -train_n4096l_fw16_source[:,0]\n",
    "train_n4096l_fw16_source_model2B_X = train_n4096l_fw16_source[:,1:17]\n",
    "\n",
    "train_n4096l_fw32_source_model2B_y = -train_n4096l_fw32_source[:,0]\n",
    "train_n4096l_fw32_source_model2B_X = train_n4096l_fw32_source[:,1:17]"
   ]
  },
  {
   "cell_type": "code",
   "execution_count": null,
   "metadata": {},
   "outputs": [],
   "source": [
    "train_n4096l_fw16_sig_model2B_X.shape"
   ]
  },
  {
   "cell_type": "code",
   "execution_count": null,
   "metadata": {},
   "outputs": [],
   "source": [
    "# Setting up the neural network models for different filter widths\n",
    "\n",
    "NN_n4096l_fw16_sig_model2A = create_model_2lay_sig(50)\n",
    "NN_n4096l_fw32_sig_model2A = create_model_2lay_sig(50)\n",
    "\n",
    "NN_n4096l_fw16_sig_model2B = create_model_2lay_sig(50)\n",
    "NN_n4096l_fw32_sig_model2B = create_model_2lay_sig(50)\n",
    "\n",
    "NN_n4096l_fw16_source_model2B = create_model_2lay_source(50)\n",
    "NN_n4096l_fw32_source_model2B = create_model_2lay_source(50)"
   ]
  },
  {
   "cell_type": "code",
   "execution_count": null,
   "metadata": {},
   "outputs": [],
   "source": [
    "#Training the models\n",
    "\n",
    "#callback\n",
    "\n",
    "callback = tf.keras.callbacks.EarlyStopping(monitor='val_loss',patience=100,restore_best_weights=True)\n",
    "\n",
    "hist_NN_n4096l_fw16_sig_model2A = NN_n4096l_fw16_sig_model2A.fit(train_n4096l_fw16_sig_model2A_X, train_n4096l_fw16_sig_model2A_y, validation_split = 0.2, batch_size= 256, epochs = 100)\n",
    "NN_n4096l_fw16_sig_model2A.save(\"Enstrophyform_savedmodels_n4096l/2NN_n4096l_fw16_sig_model2A\")\n",
    "\n",
    "hist_NN_n4096l_fw16_sig_model2B = NN_n4096l_fw16_sig_model2B.fit(train_n4096l_fw16_sig_model2B_X, train_n4096l_fw16_sig_model2B_y, validation_split = 0.2, batch_size= 256, epochs = 100)\n",
    "NN_n4096l_fw16_sig_model2B.save(\"Enstrophyform_savedmodels_n4096l/2NN_n4096l_fw16_sig_model2B\")\n",
    "\n",
    "hist_NN_n4096l_fw32_sig_model2A = NN_n4096l_fw32_sig_model2A.fit(train_n4096l_fw32_sig_model2A_X, train_n4096l_fw32_sig_model2A_y, validation_split = 0.2, batch_size= 256, epochs = 100)\n",
    "NN_n4096l_fw32_sig_model2A.save(\"Enstrophyform_savedmodels_n4096l/2NN_n4096l_fw32_sig_model2A\")\n",
    "\n",
    "hist_NN_n4096l_fw32_sig_model2B = NN_n4096l_fw32_sig_model2B.fit(train_n4096l_fw32_sig_model2B_X, train_n4096l_fw32_sig_model2B_y, validation_split = 0.2, batch_size= 256, epochs = 100)\n",
    "NN_n4096l_fw32_sig_model2B.save(\"Enstrophyform_savedmodels_n4096l/2NN_n4096l_fw32_sig_model2B\")\n",
    "\n",
    "hist_NN_n4096l_fw16_source_model2B = NN_n4096l_fw16_source_model2B.fit(train_n4096l_fw16_source_model2B_X, train_n4096l_fw16_source_model2B_y, validation_split = 0.2, batch_size= 256, epochs = 100)\n",
    "NN_n4096l_fw16_source_model2B.save(\"Enstrophyform_savedmodels_n4096l/2NN_n4096l_fw16_source_model2B\")\n",
    "\n",
    "hist_NN_n4096l_fw32_source_model2B = NN_n4096l_fw32_source_model2B.fit(train_n4096l_fw32_source_model2B_X, train_n4096l_fw32_source_model2B_y, validation_split = 0.2, batch_size= 256, epochs = 100)\n",
    "NN_n4096l_fw32_source_model2B.save(\"Enstrophyform_savedmodels_n4096l/2NN_n4096l_fw32_source_model2B\")"
   ]
  },
  {
   "cell_type": "code",
   "execution_count": null,
   "metadata": {},
   "outputs": [],
   "source": [
    "NN_n4096l_fw16_sig_model2A.save(\"Enstrophyform_savedmodels_n4096l/NN_n4096l_fw16_sig_model2A\")\n",
    "NN_n4096l_fw32_sig_model2A.save(\"Enstrophyform_savedmodels_n4096l/NN_n4096l_fw32_sig_model2A\")\n",
    "NN_n4096l_fw16_sig_model2B.save(\"Enstrophyform_savedmodels_n4096l/NN_n4096l_fw16_sig_model2B\")\n",
    "NN_n4096l_fw32_sig_model2B.save(\"Enstrophyform_savedmodels_n4096l/NN_n4096l_fw32_sig_model2B\")\n",
    "NN_n4096l_fw16_source_model2B.save(\"Enstrophyform_savedmodels_n4096l/NN_n4096l_fw16_source_model2B\")\n",
    "NN_n4096l_fw32_source_model2B.save(\"Enstrophyform_savedmodels_n4096l/NN_n4096l_fw32_source_model2B\")"
   ]
  },
  {
   "cell_type": "code",
   "execution_count": null,
   "metadata": {},
   "outputs": [],
   "source": [
    "import pickle"
   ]
  },
  {
   "cell_type": "code",
   "execution_count": null,
   "metadata": {},
   "outputs": [],
   "source": [
    "import pickle\n",
    "    \n",
    "# #fw16\n",
    "\n",
    "with open('Enstrophyform_history_n4096l/hist_2NN_n4096l_fw16_sig_model2A', 'wb') as file_pi:\n",
    "    pickle.dump(hist_NN_n4096l_fw16_sig_model2A.history, file_pi)\n",
    "    \n",
    "with open('Enstrophyform_history_n4096l/hist_2NN_n4096l_fw16_sig_model2B', 'wb') as file_pi:\n",
    "    pickle.dump(hist_NN_n4096l_fw16_sig_model2B.history, file_pi)\n",
    "\n",
    "with open('Enstrophyform_history_n4096l/hist_2NN_n4096l_fw16_source_model2B', 'wb') as file_pi:\n",
    "    pickle.dump(hist_NN_n4096l_fw16_source_model2B.history, file_pi)\n",
    "\n",
    "\n",
    "#fw32\n",
    "\n",
    "with open('Enstrophyform_history_n4096l/hist_2NN_n4096l_fw32_sig_model2A', 'wb') as file_pi:\n",
    "    pickle.dump(hist_NN_n4096l_fw32_sig_model2A.history, file_pi)\n",
    "    \n",
    "with open('Enstrophyform_history_n4096l/hist_2NN_n4096l_fw32_sig_model2B', 'wb') as file_pi:\n",
    "    pickle.dump(hist_NN_n4096l_fw32_sig_model2B.history, file_pi)\n",
    "\n",
    "with open('Enstrophyform_history_n4096l/hist_2NN_n4096l_fw32_source_model2B', 'wb') as file_pi:\n",
    "    pickle.dump(hist_NN_n4096l_fw32_source_model2B.history, file_pi)\n",
    "    "
   ]
  },
  {
   "cell_type": "code",
   "execution_count": null,
   "metadata": {},
   "outputs": [],
   "source": [
    "#fw16\n",
    "\n",
    "with open('Enstrophyform_history_n4096l/hist_2NN_n4096l_fw16_sig_model2A', 'rb') as file_pi:\n",
    "     hist_NN_n4096l_fw16_sig_model2A = pickle.load(file_pi)\n",
    "    \n",
    "with open('Enstrophyform_history_n4096l/hist_2NN_n4096l_fw16_sig_model2B', 'rb') as file_pi:\n",
    "    hist_NN_n4096l_fw16_sig_model2B = pickle.load(file_pi)\n",
    "\n",
    "with open('Enstrophyform_history_n4096l/hist_2NN_n4096l_fw16_source_model2B', 'rb') as file_pi:\n",
    "    hist_NN_n4096l_fw16_source_model2B = pickle.load(file_pi)\n",
    "\n",
    "\n",
    "#fw32\n",
    "\n",
    "with open('Enstrophyform_history_n4096l/hist_2NN_n4096l_fw32_sig_model2A', 'rb') as file_pi:\n",
    "    hist_NN_n4096l_fw32_sig_model2A = pickle.load(file_pi)\n",
    "    \n",
    "with open('Enstrophyform_history_n4096l/hist_2NN_n4096l_fw32_sig_model2B', 'rb') as file_pi:\n",
    "    hist_NN_n4096l_fw32_sig_model2B = pickle.load(file_pi)\n",
    "\n",
    "with open('Enstrophyform_history_n4096l/hist_2NN_n4096l_fw32_source_model2B', 'rb') as file_pi:\n",
    "    hist_NN_n4096l_fw32_source_model2B = pickle.load(file_pi)"
   ]
  },
  {
   "cell_type": "code",
   "execution_count": null,
   "metadata": {},
   "outputs": [],
   "source": [
    "hist_NN_n4096l_fw32_sig_model2A"
   ]
  },
  {
   "cell_type": "code",
   "execution_count": null,
   "metadata": {},
   "outputs": [],
   "source": [
    "# summarize history for loss\n",
    "\n",
    "arr_fw16_sig2A_loss = np.array(hist_NN_n4096l_fw16_sig_model2A.history['loss'])\n",
    "arr_fw16_sig2A_valloss = np.array(hist_NN_n4096l_fw16_sig_model2A.history['val_loss'])\n",
    "\n",
    "arr_fw32_sig2A_loss = np.array(hist_NN_n4096l_fw32_sig_model2A.history['loss'])\n",
    "arr_fw32_sig2A_valloss = np.array(hist_NN_n4096l_fw32_sig_model2A.history['val_loss'])\n",
    "\n",
    "arr_fw16_sig2B_loss = np.array(hist_NN_n4096l_fw16_sig_model2B.history['loss'])\n",
    "arr_fw16_sig2B_valloss = np.array(hist_NN_n4096l_fw16_sig_model2B.history['val_loss'])\n",
    "\n",
    "arr_fw32_sig2B_loss = np.array(hist_NN_n4096l_fw32_sig_model2B.history['loss'])\n",
    "arr_fw32_sig2B_valloss = np.array(hist_NN_n4096l_fw32_sig_model2B.history['val_loss'])\n",
    "\n",
    "arr_fw16_source_loss = np.array(hist_NN_n4096l_fw16_source_model2B.history['loss'])\n",
    "arr_fw16_source_valloss = np.array(hist_NN_n4096l_fw16_source_model2B.history['val_loss'])\n",
    "\n",
    "arr_fw32_source_loss = np.array(hist_NN_n4096l_fw32_source_model2B.history['loss'])\n",
    "arr_fw32_source_valloss = np.array(hist_NN_n4096l_fw32_source_model2B.history['val_loss'])\n",
    "\n",
    "import scipy.optimize as opt;\n",
    "\n",
    "def func(x, a, b, c):\n",
    "     return a * np.exp(-b * x) + c\n",
    "\n",
    "# #fw16\n",
    "\n",
    "plt.plot(arr_fw16_sig2A_loss[10:arr_fw16_sig2A_loss.size],color='orange')\n",
    "plt.plot(arr_fw16_sig2A_valloss[10:arr_fw16_sig2A_valloss.size],color='blue')\n",
    "plt.title('hist_NN_n4096l_fw16_sig_model2A loss')\n",
    "plt.ylabel('loss')\n",
    "plt.xlabel('epoch')\n",
    "plt.legend(['train'], loc='upper left')\n",
    "plt.show()\n",
    "\n",
    "plt.plot(arr_fw16_sig2B_loss[10:arr_fw16_sig2B_loss.size],color='orange')\n",
    "plt.plot(arr_fw16_sig2B_valloss[10:arr_fw16_sig2B_valloss.size],color='blue')\n",
    "plt.title('hist_NN_n4096l_fw16_sig_model2B loss')\n",
    "plt.ylabel('loss')\n",
    "plt.xlabel('epoch')\n",
    "plt.legend(['train'], loc='upper left')\n",
    "plt.show()\n",
    "\n",
    "plt.plot(arr_fw16_source_loss[10:arr_fw16_source_loss.size],color='orange')\n",
    "plt.plot(arr_fw16_source_valloss[10:arr_fw16_source_valloss.size],color='blue')\n",
    "plt.title('hist_NN_n4096l_fw16_source_model2B loss')\n",
    "plt.ylabel('loss')\n",
    "plt.xlabel('epoch')\n",
    "plt.legend(['train'], loc='upper left')\n",
    "plt.show()\n",
    "\n",
    "\n",
    "#fw32\n",
    "\n",
    "plt.plot(arr_fw32_sig2A_loss[10:arr_fw32_sig2A_loss.size],color='orange')\n",
    "plt.plot(arr_fw32_sig2A_valloss[10:arr_fw32_sig2A_valloss.size],color='blue')\n",
    "plt.title('hist_NN_n4096l_fw32_sig_model2A loss')\n",
    "plt.ylabel('loss')\n",
    "plt.xlabel('epoch')\n",
    "plt.legend(['train'], loc='upper left')\n",
    "plt.show()\n",
    "\n",
    "plt.plot(arr_fw32_sig2B_loss[10:arr_fw32_sig2B_loss.size],color='orange')\n",
    "plt.plot(arr_fw32_sig2B_valloss[10:arr_fw32_sig2B_valloss.size],color='blue')\n",
    "plt.title('hist_NN_n4096l_fw32_sig_model2B loss')\n",
    "plt.ylabel('loss')\n",
    "plt.xlabel('epoch')\n",
    "plt.legend(['train'], loc='upper left')\n",
    "plt.show()\n",
    "\n",
    "plt.plot(arr_fw32_source_loss[10:arr_fw32_source_loss.size],color='orange')\n",
    "plt.plot(arr_fw32_source_valloss[10:arr_fw32_source_valloss.size],color='blue')\n",
    "plt.title('hist_NN_n4096l_fw32_source_model2B loss')\n",
    "plt.ylabel('loss')\n",
    "plt.xlabel('epoch')\n",
    "plt.legend(['train'], loc='upper left')\n",
    "plt.show()"
   ]
  },
  {
   "cell_type": "code",
   "execution_count": null,
   "metadata": {},
   "outputs": [],
   "source": [
    "arr_fw32_source_loss"
   ]
  }
 ],
 "metadata": {
  "jupytext": {
   "formats": "ipynb,py:percent"
  },
  "kernelspec": {
   "display_name": "Python 3 (ipykernel)",
   "language": "python",
   "name": "python3"
  },
  "language_info": {
   "codemirror_mode": {
    "name": "ipython",
    "version": 3
   },
   "file_extension": ".py",
   "mimetype": "text/x-python",
   "name": "python",
   "nbconvert_exporter": "python",
   "pygments_lexer": "ipython3",
   "version": "3.9.13"
  }
 },
 "nbformat": 4,
 "nbformat_minor": 4
}
